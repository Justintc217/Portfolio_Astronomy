{
 "cells": [
  {
   "cell_type": "code",
   "execution_count": null,
   "metadata": {},
   "outputs": [],
   "source": [
    "# This program compares the relative flux of light from a region of space in the 5 sdss ugriz filters"
   ]
  },
  {
   "cell_type": "code",
   "execution_count": 1,
   "metadata": {},
   "outputs": [],
   "source": [
    "import urllib.parse\n",
    "import urllib.request\n",
    "from astropy.table import Table, Column\n",
    "import numpy as np"
   ]
  },
  {
   "cell_type": "code",
   "execution_count": 2,
   "metadata": {},
   "outputs": [],
   "source": [
    "SEARCH_API_BASE = \"http://cas.sdss.org/dr7/en/tools/search/x_sql.asp\"\n",
    "\n",
    "def run_query(sql):\n",
    "    url = SEARCH_API_BASE + '?' + urllib.parse.urlencode({\n",
    "        'format': 'csv',\n",
    "        'cmd': sql,\n",
    "    })\n",
    "    with urllib.request.urlopen(url) as conn:\n",
    "        return conn.read().decode('ascii')"
   ]
  },
  {
   "cell_type": "code",
   "execution_count": 3,
   "metadata": {},
   "outputs": [],
   "source": [
    "def params(ra1,ra2,dec1,dec2):\n",
    "    param = ra1,ra2,dec1,dec2\n",
    "    select = \"SELECT p.objid,p.ra,p.dec,p.u,p.g,p.r,p.i,p.z\"\n",
    "    from_ = \"FROM PhotoObj AS p\"\n",
    "    where = \"WHERE p.ra BETWEEN {0} AND {1} AND p.dec BETWEEN {2} AND {3}\".format(*param)\n",
    "    query = select + \"\\n\"  + from_ + \"\\n\"  + where\n",
    "    return query"
   ]
  },
  {
   "cell_type": "code",
   "execution_count": 4,
   "metadata": {},
   "outputs": [],
   "source": [
    "def data_organize(data):\n",
    "    data = data.splitlines()\n",
    "    names = data[0].split(\",\")\n",
    "    numbers = data[1:]\n",
    "    data_org = {names[j]:[] for j in range(len(names))}\n",
    "    for i in numbers:\n",
    "        u = i.split(\",\")\n",
    "        for j in range(len(names)):\n",
    "            data_org[names[j]].append(u[j])\n",
    "    return data_org"
   ]
  },
  {
   "cell_type": "code",
   "execution_count": 5,
   "metadata": {},
   "outputs": [],
   "source": [
    "def make_table(data_org):\n",
    "    data_table = Table(data_org)\n",
    "    return data_table"
   ]
  },
  {
   "cell_type": "code",
   "execution_count": 6,
   "metadata": {},
   "outputs": [],
   "source": [
    "def amt_flux(mags):\n",
    "    mag_list = list(map(float, mags))\n",
    "    flux = 0\n",
    "    for mag in mag_list:\n",
    "        if mag > 0:\n",
    "            flux = flux +  0.398**mag  # in reference fluxes of magnitude 0\n",
    "    return flux\n"
   ]
  },
  {
   "cell_type": "code",
   "execution_count": 7,
   "metadata": {},
   "outputs": [],
   "source": [
    "ra = 23\n",
    "dec = 25\n",
    "query = params(ra, ra + 2 , dec , dec + 1)\n",
    "data = run_query(query)"
   ]
  },
  {
   "cell_type": "code",
   "execution_count": 8,
   "metadata": {},
   "outputs": [],
   "source": [
    "data_org = data_organize(data)"
   ]
  },
  {
   "cell_type": "code",
   "execution_count": 9,
   "metadata": {},
   "outputs": [
    {
     "data": {
      "text/plain": [
       "['objid', 'ra', 'dec', 'u', 'g', 'r', 'i', 'z']"
      ]
     },
     "execution_count": 9,
     "metadata": {},
     "output_type": "execute_result"
    }
   ],
   "source": [
    "data = data.splitlines()\n",
    "names = data[0].split(\",\")\n",
    "names"
   ]
  },
  {
   "cell_type": "code",
   "execution_count": 10,
   "metadata": {},
   "outputs": [
    {
     "name": "stdout",
     "output_type": "stream",
     "text": [
      "23 25 3102\n",
      "u:  1.977143%\n",
      "g:  15.050109%\n",
      "r:  23.898672%\n",
      "i:  36.965980%\n",
      "z:  22.108096%\n"
     ]
    }
   ],
   "source": [
    "total = 0\n",
    "for i in range(3,len(names)):\n",
    "    res = amt_flux(data_org[names[i]])\n",
    "    total += res\n",
    "\n",
    "print(ra , dec, len(data_org[\"u\"]))\n",
    "for i in range(3,len(names)):\n",
    "    res_perc = [names[i] , amt_flux(data_org[names[i]])/total]\n",
    "    print(res_perc[0] + \":  \" + \"{0:f}\".format(100 * res_perc[1]) + \"%\")"
   ]
  },
  {
   "cell_type": "code",
   "execution_count": null,
   "metadata": {},
   "outputs": [],
   "source": []
  },
  {
   "cell_type": "markdown",
   "metadata": {},
   "source": [
    "0 0\n",
    "u:  3.164808%\n",
    "g:  15.246707%\n",
    "r:  25.659541%\n",
    "i:  27.533295%\n",
    "z:  28.395650%\n",
    "\n",
    "1 1\n",
    "u:  10.440330%\n",
    "g:  11.149212%\n",
    "r:  21.862592%\n",
    "i:  23.080103%\n",
    "z:  33.467763%\n",
    "\n",
    "2 1 6445\n",
    "u:  4.922033%\n",
    "g:  9.950156%\n",
    "r:  34.936273%\n",
    "i:  22.389618%\n",
    "z:  27.801920%\n",
    "\n",
    "2 0 25660\n",
    "u:  3.801093%\n",
    "g:  14.324746%\n",
    "r:  23.655816%\n",
    "i:  25.237648%\n",
    "z:  32.980697%\n",
    "\n",
    "3 0 25877\n",
    "u:  2.951091%\n",
    "g:  11.653821%\n",
    "r:  25.555379%\n",
    "i:  30.004270%\n",
    "z:  29.835438%\n",
    "\n",
    "20+8 30 37399\n",
    "u:  2.966457%\n",
    "g:  12.721524%\n",
    "r:  25.850285%\n",
    "i:  27.916860%\n",
    "z:  30.544875%"
   ]
  }
 ],
 "metadata": {
  "anaconda-cloud": {},
  "kernelspec": {
   "display_name": "Python 3",
   "language": "python",
   "name": "python3"
  },
  "language_info": {
   "codemirror_mode": {
    "name": "ipython",
    "version": 3
   },
   "file_extension": ".py",
   "mimetype": "text/x-python",
   "name": "python",
   "nbconvert_exporter": "python",
   "pygments_lexer": "ipython3",
   "version": "3.6.3"
  }
 },
 "nbformat": 4,
 "nbformat_minor": 1
}
