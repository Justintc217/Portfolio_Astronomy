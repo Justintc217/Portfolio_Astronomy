{
 "cells": [
  {
   "cell_type": "code",
   "execution_count": 59,
   "metadata": {
    "collapsed": false
   },
   "outputs": [],
   "source": [
    "import matplotlib.pyplot as plt\n",
    "from astropy.io import ascii\n",
    "from matplotlib.backends.backend_pdf import PdfPages\n",
    "from scipy.optimize import curve_fit\n",
    "import numpy as np\n",
    "path = \"C:/Users/justin/AstrResearch/Astr480/dat_files/\"\n",
    "data_g_mag = ascii.read(path + \"g_mag.dat\")\n",
    "data_r_mag = ascii.read(path + \"r_mag.dat\")\n",
    "data_i_mag = ascii.read(path + \"i_mag.dat\")\n",
    "data_g_int = ascii.read(path + \"g_intensity.dat\")\n",
    "data_r_int = ascii.read(path + \"r_intensity.dat\")\n",
    "data_i_int = ascii.read(path + \"i_intensity.dat\")\n",
    "\n"
   ]
  },
  {
   "cell_type": "code",
   "execution_count": 60,
   "metadata": {
    "collapsed": false
   },
   "outputs": [
    {
     "name": "stdout",
     "output_type": "stream",
     "text": [
      "row  SMA  INTENS INT_ERR PIX_VAR  RMS  ELLIP  ELLIP_ERR   PA  \n",
      "--- ----- ------ ------- ------- ----- ------ --------- ------\n",
      "  1   0.0  367.0     0.0   INDEF INDEF  INDEF     INDEF  INDEF\n",
      "  2  0.52  370.0   0.886    4.52  3.19 0.3155     INDEF -68.22\n",
      "  3  0.57  370.0   0.947    4.83  3.41 0.3155     INDEF -68.22\n",
      "  4  0.63  370.0    1.02     5.2  3.67 0.3155     INDEF -68.22\n",
      "  5  0.69  371.0    1.11    5.64  3.99 0.3155     INDEF -68.22\n",
      "  6  0.76  371.0    1.21    6.16  4.35 0.3155     INDEF -68.22\n",
      "  7  0.84  371.0    1.29    6.56  4.64 0.3155     INDEF -68.22\n",
      "  8  0.92  371.0    1.37    6.96  4.92 0.3155     INDEF -68.22\n",
      "  9  1.02  371.0    1.45    7.41  5.24 0.3155     INDEF -68.22\n",
      " 10  1.12  372.0    1.54    7.86  5.56 0.3155     INDEF -68.22\n",
      "...   ...    ...     ...     ...   ...    ...       ...    ...\n",
      " 27  5.64  386.0    1.38    10.5  7.41 0.3155     INDEF -68.22\n",
      " 28  6.21  383.0    1.42    11.4  8.05 0.3155     INDEF -68.22\n",
      " 29  6.83  376.0    1.53    13.5  9.58 0.1827    0.0661 -41.99\n",
      " 30  7.51  375.0    1.54    14.1  9.95 0.2037    0.0469 -10.42\n",
      " 31  8.26  372.0    1.59    14.9  10.5 0.2641    0.0406 -13.92\n",
      " 32  9.09  374.0    1.52    14.4  10.2 0.3740    0.0380 -19.68\n",
      " 33  10.0  370.0    1.43     14.  9.89 0.4056    0.0261 -21.00\n",
      " 34  11.0  363.0    1.63    16.6  11.7 0.4162    0.0441 -15.04\n",
      " 35  12.1  357.0    1.44    16.3  11.5 0.2702    0.0585 -31.36\n",
      " 36 13.31  353.0    1.43     17.   12. 0.2702    0.0572 -28.77\n",
      " 37 14.64  347.0    1.25    15.6   11. 0.2711     INDEF -23.73\n",
      "Length = 37 rows\n"
     ]
    }
   ],
   "source": [
    "print(data_i_int)"
   ]
  },
  {
   "cell_type": "code",
   "execution_count": 61,
   "metadata": {
    "collapsed": false
   },
   "outputs": [
    {
     "name": "stdout",
     "output_type": "stream",
     "text": [
      "/c/Users/justin/AstrResearch/Astr480\n"
     ]
    }
   ],
   "source": [
    "!pwd"
   ]
  },
  {
   "cell_type": "code",
   "execution_count": 62,
   "metadata": {
    "collapsed": true
   },
   "outputs": [],
   "source": [
    "x_g_int = data_g_int[\"SMA\"]  #SMA = Semi Major Axis\n",
    "y_g_int = data_g_int[\"INTENS\"]\n",
    "x_r_int = data_r_int[\"SMA\"]\n",
    "y_r_int = data_r_int[\"INTENS\"]\n",
    "x_i_int = data_i_int[\"SMA\"]\n",
    "y_i_int = data_i_int[\"INTENS\"]"
   ]
  },
  {
   "cell_type": "code",
   "execution_count": 70,
   "metadata": {
    "collapsed": true
   },
   "outputs": [],
   "source": [
    "y_g_int_h = data_g_int[\"INTENS\"] + data_g_int[\"INT_ERR\"]\n",
    "y_g_int_l = data_g_int[\"INTENS\"] - data_g_int[\"INT_ERR\"]\n"
   ]
  },
  {
   "cell_type": "code",
   "execution_count": 71,
   "metadata": {
    "collapsed": true
   },
   "outputs": [],
   "source": [
    "y_r_int_h = data_r_int[\"INTENS\"] + data_r_int[\"INT_ERR\"]\n",
    "y_r_int_l = data_r_int[\"INTENS\"] - data_r_int[\"INT_ERR\"]"
   ]
  },
  {
   "cell_type": "code",
   "execution_count": 72,
   "metadata": {
    "collapsed": true
   },
   "outputs": [],
   "source": [
    "y_i_int_h = data_i_int[\"INTENS\"] + data_i_int[\"INT_ERR\"]\n",
    "y_i_int_l = data_i_int[\"INTENS\"] - data_i_int[\"INT_ERR\"]"
   ]
  },
  {
   "cell_type": "code",
   "execution_count": 66,
   "metadata": {
    "collapsed": true
   },
   "outputs": [],
   "source": [
    "def app_mag(radius , intensity , wavelength_A):   # wavelength_A changes values during the calculation \n",
    "                                                  # but doesn't change the final result. Cannot be 0\n",
    "    gain = 1.25   # e/ADU; for ARCSAT CCD\n",
    "    time = 300   # in seconds; this is the exposure time\n",
    "    area = (0.25 ** 2) * 3.1415   # in m^2; for ARCSAT lens\n",
    "    c = 2.998 * 10 ** 8   # speed of light m/s\n",
    "    h = 6.626 * 10 ** -34   # Planc's constant SI units\n",
    "    wavelength_m = wavelength_A * 10 ** -10   # assumes wavelength in Angstroms, converts into meters\n",
    "    frequency = c/wavelength_m   # frequency in Hz\n",
    "    E_photon = h * frequency * 10 ** 7   # in ergs; 10 ** 7 converts joules into ergs\n",
    "    \n",
    "    \n",
    "    amt_photons = 0\n",
    "    for i in range(0, len(radius) - 1):\n",
    "        delx = np.abs(radius[i] - radius[i + 1])\n",
    "        #mp = 3.14 * ((intensity[i] + intensity[i + 1])/2) ** 2\n",
    "        mp = 2 * 3.14 * ((radius[i] + radius[i + 1])/2) * ((intensity[i] + intensity[i + 1])/2)\n",
    "        amt_photons = delx * mp + amt_photons\n",
    "        \n",
    "    \n",
    "    convert_to_jansky = 10 ** 19 # converts erg/(m^2 * s * Hz) into Jansky\n",
    "    spec_flux_density = (E_photon * amt_photons * gain * convert_to_jansky) / (time * area * frequency)\n",
    "    flux_vega = 3631  # in Janskys\n",
    "    mag = -2.5 * np.log10(spec_flux_density/flux_vega)\n",
    "    return mag"
   ]
  },
  {
   "cell_type": "code",
   "execution_count": 74,
   "metadata": {
    "collapsed": false
   },
   "outputs": [
    {
     "name": "stdout",
     "output_type": "stream",
     "text": [
      "g upper 15.6037439118\n",
      "g lower 15.6229243826\n",
      "r upper 17.9041107062\n",
      "r lower 17.9147446599\n",
      "i upper 17.5470133337\n",
      "i lower 17.5563658617\n"
     ]
    }
   ],
   "source": [
    "print(\"g upper\" , app_mag(x_g_int , y_g_int_h , 1))\n",
    "print(\"g lower\" , app_mag(x_g_int , y_g_int_l , 1))\n",
    "print(\"r upper\" , app_mag(x_r_int , y_r_int_h , 1))\n",
    "print(\"r lower\" , app_mag(x_r_int , y_r_int_l , 1))\n",
    "print(\"i upper\" , app_mag(x_i_int , y_i_int_h , 1))\n",
    "print(\"i lower\" , app_mag(x_i_int , y_i_int_l , 1))"
   ]
  },
  {
   "cell_type": "code",
   "execution_count": 76,
   "metadata": {
    "collapsed": false
   },
   "outputs": [
    {
     "name": "stdout",
     "output_type": "stream",
     "text": [
      "g err -0.00954788100126\n",
      "r err -0.00530395795689\n",
      "i err -0.00466619366805\n"
     ]
    }
   ],
   "source": [
    "print(\"g err\" , app_mag(x_g_int , y_g_int_h , 1) - app_mag(x_g_int , y_g_int , 1))\n",
    "\n",
    "print(\"r err\" , app_mag(x_r_int , y_r_int_h , 1) - app_mag(x_r_int , y_r_int , 1))\n",
    "\n",
    "print(\"i err\" , app_mag(x_i_int , y_i_int_h , 1) - app_mag(x_i_int , y_i_int , 1))\n"
   ]
  },
  {
   "cell_type": "code",
   "execution_count": 67,
   "metadata": {
    "collapsed": false
   },
   "outputs": [
    {
     "data": {
      "text/plain": [
       "15.613291792830591"
      ]
     },
     "execution_count": 67,
     "metadata": {},
     "output_type": "execute_result"
    }
   ],
   "source": [
    "app_mag(x_g_int , y_g_int , 1)"
   ]
  },
  {
   "cell_type": "code",
   "execution_count": 68,
   "metadata": {
    "collapsed": false
   },
   "outputs": [
    {
     "data": {
      "text/plain": [
       "17.909414664196348"
      ]
     },
     "execution_count": 68,
     "metadata": {},
     "output_type": "execute_result"
    }
   ],
   "source": [
    "app_mag(x_r_int , y_r_int , 1)"
   ]
  },
  {
   "cell_type": "code",
   "execution_count": 69,
   "metadata": {
    "collapsed": false
   },
   "outputs": [
    {
     "data": {
      "text/plain": [
       "17.551679527404985"
      ]
     },
     "execution_count": 69,
     "metadata": {},
     "output_type": "execute_result"
    }
   ],
   "source": [
    "app_mag(x_i_int , y_i_int , 1)"
   ]
  },
  {
   "cell_type": "code",
   "execution_count": null,
   "metadata": {
    "collapsed": true
   },
   "outputs": [],
   "source": [
    "14.192620570156858"
   ]
  },
  {
   "cell_type": "code",
   "execution_count": 66,
   "metadata": {
    "collapsed": false
   },
   "outputs": [],
   "source": [
    "total = 0\n",
    "gain = 1.25\n",
    "time = 300\n",
    "E_photon = 4.164 * 10 ** -12 # in ergs\n",
    "freq = 6.285 * 10 ** 14 # in hz\n",
    "area = 0.25 * 3.1415\n",
    "for i in range(0, len(x_g_int) - 1):\n",
    "    delx = np.abs(x_g_int[i] - x_g_int[i + 1])\n",
    "    mp = 3.14 * ((y_g_int[i] + y_g_int[i + 1])/2) ** 2\n",
    "    total = delx * mp + total\n",
    "result = (E_photon * total * gain) / (time * area * freq)\n",
    "flux = result * 10 ** 19\n",
    "flux_vega = 3631"
   ]
  },
  {
   "cell_type": "code",
   "execution_count": 67,
   "metadata": {
    "collapsed": true
   },
   "outputs": [],
   "source": [
    "mag = -2.5 * np.log10(flux/flux_vega)"
   ]
  },
  {
   "cell_type": "code",
   "execution_count": 68,
   "metadata": {
    "collapsed": false
   },
   "outputs": [
    {
     "name": "stdout",
     "output_type": "stream",
     "text": [
      "14.192735552\n"
     ]
    }
   ],
   "source": [
    "print(mag)"
   ]
  },
  {
   "cell_type": "code",
   "execution_count": 69,
   "metadata": {
    "collapsed": true
   },
   "outputs": [],
   "source": [
    "#14.67 "
   ]
  },
  {
   "cell_type": "code",
   "execution_count": 70,
   "metadata": {
    "collapsed": false,
    "scrolled": false
   },
   "outputs": [
    {
     "data": {
      "image/png": "[encoded data removed]",
      "text/plain": [
       "<matplotlib.figure.Figure at 0x20895c636d8>"
      ]
     },
     "metadata": {},
     "output_type": "display_data"
    }
   ],
   "source": [
    "fig, ax = plt.subplots(1 , 3)\n",
    "fig.set_size_inches(16,10)\n",
    "\n",
    "ax[0].scatter(x_g_int , y_g_int , c = \"blue\")\n",
    "#ax[0].set_ylim(-5.3,-7.7)\n",
    "#ax[0].set_xlim(0.8,2.7)\n",
    "ax[0].set_title(\"g Intensity Profile\")\n",
    "ax[0].set_xlabel(\"Radius\")\n",
    "ax[0].set_ylabel(\"Intensity\")\n",
    "\n",
    "\n",
    "\n",
    "ax[1].scatter(x_r_int , y_r_int , c = \"green\")\n",
    "#ax[1].set_ylim(-5.9,-6.2)\n",
    "#ax[1].set_xlim(0.7,2.0)\n",
    "ax[1].set_title(\"r Intensity Profile\")\n",
    "ax[1].set_xlabel(\"Radius\")\n",
    "ax[1].set_ylabel(\"Intensity\")\n",
    "\n",
    "\n",
    "ax[2].scatter(x_i_int , y_i_int , c = \"red\")\n",
    "#ax[2].set_ylim(-6.3,-6.5)\n",
    "#ax[2].set_xlim(0.7,2.0)\n",
    "ax[2].set_title(\"i Intensity Profile\")\n",
    "ax[2].set_xlabel(\"Radius\")\n",
    "ax[2].set_ylabel(\"Intensity\")\n",
    "\n",
    "\n",
    "\"================================\"\n",
    "\n",
    "\"\"\"ax[0,1].scatter(x_g , y_g , c = \"blue\")\n",
    "ax[0,1].set_ylim(-5.3,-7.7)\n",
    "ax[0,1].set_xlim(0.8,2.7)\n",
    "ax[0,1].set_title(\"g brightness profile\")\n",
    "ax[0,1].set_xlabel(\"pixel ** 1/4\")\n",
    "ax[0,1].set_ylabel(\"Absolute Magnitude\")\n",
    "\n",
    "\n",
    "ax[1,1].scatter(x_r , y_r , c = \"green\")\n",
    "ax[1,1].set_ylim(-5.9,-6.2)\n",
    "ax[1,1].set_xlim(0.7,2.0)\n",
    "ax[1,1].set_title(\"r brightness profile\")\n",
    "ax[1,1].set_xlabel(\"pixel ** 1/4\")\n",
    "ax[1,1].set_ylabel(\"Absolute Magnitude\")\n",
    "\n",
    "\n",
    "ax[2,1].scatter(x_i , y_i , c = \"red\")\n",
    "ax[2,1].set_ylim(-6.3,-6.5)\n",
    "ax[2,1].set_xlim(0.7,2.0)\n",
    "ax[2,1].set_title(\"i brightness profile\")\n",
    "ax[2,1].set_xlabel(\"pixel ** 1/4\")\n",
    "ax[2,1].set_ylabel(\"Absolute Magnitude\")\n",
    "\"\"\"\n",
    "plt.savefig(\"Intensity Profiles.jpg\")\n",
    "plt.show()\n",
    "\n"
   ]
  },
  {
   "cell_type": "code",
   "execution_count": null,
   "metadata": {
    "collapsed": true
   },
   "outputs": [],
   "source": []
  },
  {
   "cell_type": "code",
   "execution_count": null,
   "metadata": {
    "collapsed": true
   },
   "outputs": [],
   "source": []
  },
  {
   "cell_type": "code",
   "execution_count": null,
   "metadata": {
    "collapsed": true
   },
   "outputs": [],
   "source": []
  },
  {
   "cell_type": "code",
   "execution_count": null,
   "metadata": {
    "collapsed": false
   },
   "outputs": [],
   "source": [
    "c = 22.5\n",
    "x_g = data_g_mag[\"RSMA\"]\n",
    "y_g = data_g_mag[\"MAG\"] + c\n",
    "x_r = data_r_mag[\"RSMA\"]\n",
    "y_r = data_r_mag[\"MAG\"] + c\n",
    "x_i = data_i_mag[\"RSMA\"]\n",
    "y_i = data_i_mag[\"MAG\"] + c\n",
    "\n",
    "\"==========================================================\"\n",
    "\n",
    "\n"
   ]
  },
  {
   "cell_type": "code",
   "execution_count": null,
   "metadata": {
    "collapsed": false,
    "scrolled": false
   },
   "outputs": [],
   "source": [
    "fig, ax = plt.subplots(3 , 1)\n",
    "fig.set_size_inches(8,24)\n",
    "\n",
    "ax[0].scatter(x_g , y_g , c = \"blue\")\n",
    "ax[0].set_ylim(-5.3 + c,-7.7 + c)\n",
    "#ax[0].set_xlim(0.8,2.7)\n",
    "ax[0].set_title(\"g brightness profile\")\n",
    "ax[0].set_xlabel(\"radius ** 1/4\")\n",
    "ax[0].set_ylabel(\"Absolute Magnitude\")\n",
    "\n",
    "\n",
    "ax[1].scatter(x_r , y_r , c = \"green\")\n",
    "ax[1].set_ylim(-5.9 + c,-6.2 + c)\n",
    "ax[1].set_xlim(0.7,2.0)\n",
    "ax[1].set_title(\"r brightness profile\")\n",
    "ax[1].set_xlabel(\"radius ** 1/4\")\n",
    "ax[1].set_ylabel(\"Absolute Magnitude\")\n",
    "\n",
    "\n",
    "ax[2].scatter(x_i , y_i , c = \"red\")\n",
    "ax[2].set_ylim(-6.3 + c,-6.5 + c)\n",
    "ax[2].set_xlim(0.7,2.0)\n",
    "ax[2].set_title(\"i brightness profile\")\n",
    "ax[2].set_xlabel(\"radius ** 1/4\")\n",
    "ax[2].set_ylabel(\"Absolute Magnitude\")\n",
    "\n",
    "\n",
    "plt.show()"
   ]
  },
  {
   "cell_type": "code",
   "execution_count": null,
   "metadata": {
    "collapsed": true
   },
   "outputs": [],
   "source": []
  }
 ],
 "metadata": {
  "anaconda-cloud": {},
  "kernelspec": {
   "display_name": "Python [conda root]",
   "language": "python",
   "name": "conda-root-py"
  },
  "language_info": {
   "codemirror_mode": {
    "name": "ipython",
    "version": 3
   },
   "file_extension": ".py",
   "mimetype": "text/x-python",
   "name": "python",
   "nbconvert_exporter": "python",
   "pygments_lexer": "ipython3",
   "version": "3.5.2"
  }
 },
 "nbformat": 4,
 "nbformat_minor": 1
}
