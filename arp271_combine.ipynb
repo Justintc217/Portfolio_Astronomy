{
 "cells": [
  {
   "cell_type": "code",
   "execution_count": 10,
   "metadata": {},
   "outputs": [],
   "source": [
    "import astropy.io.fits as fits\n",
    "import numpy as np\n",
    "import matplotlib.pyplot as plt\n",
    "import os\n",
    "from PIL import Image"
   ]
  },
  {
   "cell_type": "code",
   "execution_count": 11,
   "metadata": {},
   "outputs": [
    {
     "name": "stdout",
     "output_type": "stream",
     "text": [
      " Volume in drive C is OS\n",
      " Volume Serial Number is C0B6-74F0\n",
      "\n",
      " Directory of C:\\Users\\justin\\AstrResearch\\Astr480\n",
      "\n",
      "11/19/2017  10:02 PM    <DIR>          .\n",
      "11/19/2017  10:02 PM    <DIR>          ..\n",
      "06/06/2017  07:06 PM    <DIR>          .ipynb_checkpoints\n",
      "06/07/2017  02:23 PM           129,252 aligned.jpg\n",
      "11/19/2017  10:02 PM           151,588 arp.jpg\n",
      "06/06/2017  06:49 PM             4,610 arp271_combine.ipynb\n",
      "06/07/2017  05:38 PM             5,930 arp271_get_final_images.ipynb\n",
      "06/06/2017  06:57 PM             5,744 arp271_get_original_images.ipynb\n",
      "05/31/2017  09:46 PM         4,204,800 arp271_g_ready.fits\n",
      "06/06/2017  07:06 PM           359,701 arp271_g_ready.jpg\n",
      "06/06/2017  11:55 AM         4,170,240 arp271_g_ready_align1.fits\n",
      "05/31/2017  09:46 PM         4,204,800 arp271_i_ready.fits\n",
      "06/07/2017  02:23 PM           129,252 arp271_i_ready.jpg\n",
      "06/06/2017  11:55 AM         4,170,240 arp271_i_ready_align1.fits\n",
      "05/31/2017  09:46 PM         4,204,800 arp271_r_ready.fits\n",
      "06/06/2017  07:07 PM           199,441 arp271_r_ready.jpg\n",
      "06/06/2017  11:55 AM         4,170,240 arp271_r_ready_align1.fits\n",
      "06/03/2017  08:33 PM         4,204,800 arp_271__sdss_g_20170420_053425.fits\n",
      "06/06/2017  06:55 PM           359,413 arp_271__sdss_g_20170420_053425.jpg\n",
      "06/03/2017  08:33 PM         4,204,800 arp_271__sdss_i_20170420_054402.fits\n",
      "06/06/2017  06:57 PM           147,523 arp_271__sdss_i_20170420_054402.jpg\n",
      "06/03/2017  08:33 PM         4,204,800 arp_271__sdss_r_20170420_052230.fits\n",
      "06/06/2017  06:56 PM           198,786 arp_271__sdss_r_20170420_052230.jpg\n",
      "06/09/2017  11:23 AM         2,012,412 Astr480 (8).pdf\n",
      "06/07/2017  08:27 PM    <DIR>          dat_files\n",
      "06/05/2017  09:48 PM            72,779 easy_phot_plot.ipynb\n",
      "06/07/2017  08:40 PM            48,612 ellipse_analysis.ipynb\n",
      "06/05/2017  09:00 PM             3,139 finalproject_notes_v1.2\n",
      "06/06/2017  06:49 PM             3,472 fits_analyzer.ipynb\n",
      "06/07/2017  02:20 PM    <DIR>          fits_files\n",
      "06/07/2017  05:35 PM           388,843 g_final.jpg\n",
      "06/06/2017  11:27 AM            10,515 header_analyzer.ipynb\n",
      "06/06/2017  06:39 PM    <DIR>          images\n",
      "06/06/2017  07:12 PM            25,260 imhead_arp271\n",
      "11/19/2017  10:03 PM           129,861 i_final.jpg\n",
      "06/09/2017  11:32 AM         2,012,543 Justin_Astro_480_paper.pdf\n",
      "06/09/2017  11:59 AM         2,012,564 Justin_Astro_480_paper1.pdf\n",
      "06/07/2017  05:37 PM           150,340 r_final.jpg\n",
      "              32 File(s)     46,301,100 bytes\n",
      "               6 Dir(s)  857,496,948,736 bytes free\n"
     ]
    }
   ],
   "source": [
    "!dir"
   ]
  },
  {
   "cell_type": "code",
   "execution_count": null,
   "metadata": {},
   "outputs": [],
   "source": []
  },
  {
   "cell_type": "code",
   "execution_count": 12,
   "metadata": {},
   "outputs": [],
   "source": [
    "photog = fits.getdata(\"arp271_g_ready.fits\").astype(np.int32)\n",
    "photor = fits.getdata(\"arp271_r_ready.fits\").astype(np.int32)\n",
    "photoi = fits.getdata(\"arp271_i_ready.fits\").astype(np.int32)"
   ]
  },
  {
   "cell_type": "code",
   "execution_count": 13,
   "metadata": {},
   "outputs": [],
   "source": [
    "photog_avg = np.median(photog)\n",
    "photor_avg = np.median(photor)\n",
    "photoi_avg = np.median(photoi)\n"
   ]
  },
  {
   "cell_type": "code",
   "execution_count": 14,
   "metadata": {},
   "outputs": [],
   "source": [
    "photog_med = np.median(photog)\n",
    "photor_med = np.median(photor)\n",
    "photoi_med = np.median(photoi)"
   ]
  },
  {
   "cell_type": "code",
   "execution_count": 15,
   "metadata": {},
   "outputs": [],
   "source": [
    "photog_norm_med = photog/photog_med\n",
    "photor_norm_med = photor/photor_med\n",
    "photoi_norm_med = photoi/photoi_med"
   ]
  },
  {
   "cell_type": "code",
   "execution_count": 16,
   "metadata": {},
   "outputs": [],
   "source": [
    "photog_norm = photog/photog_avg\n",
    "photor_norm = photor/photor_avg\n",
    "photoi_norm = photoi/photoi_avg"
   ]
  },
  {
   "cell_type": "code",
   "execution_count": 17,
   "metadata": {},
   "outputs": [],
   "source": [
    "pht = [photog_norm , photor_norm , photoi_norm]"
   ]
  },
  {
   "cell_type": "code",
   "execution_count": 18,
   "metadata": {},
   "outputs": [],
   "source": [
    "plt.figure(figsize = (12 , 12))\n",
    "n = 100\n",
    "s = 40\n",
    "new_img = Image.new( 'RGB', (1024,1024), \"black\") # create a new black image\n",
    "new = new_img.load() # create the pixel map\n",
    "for x in range(0 , 1000):    # testing obs pixels\n",
    "    for y in range(0 , 1000):\n",
    "        B = int(photog_norm[y+3][x] * n - s)\n",
    "        G = int(photor_norm[y][x+7] * n - s)\n",
    "        R = int(photoi_norm[y][x+5] * n - s)\n",
    "        new[x , y] = (R,G,B)\n",
    "new_img.show()\n",
    "new_img.save('arp' + '.jpg' , 'jpeg')\n",
    "new_img.close()"
   ]
  },
  {
   "cell_type": "code",
   "execution_count": null,
   "metadata": {},
   "outputs": [],
   "source": []
  }
 ],
 "metadata": {
  "anaconda-cloud": {},
  "kernelspec": {
   "display_name": "Python 3",
   "language": "python",
   "name": "python3"
  },
  "language_info": {
   "codemirror_mode": {
    "name": "ipython",
    "version": 3
   },
   "file_extension": ".py",
   "mimetype": "text/x-python",
   "name": "python",
   "nbconvert_exporter": "python",
   "pygments_lexer": "ipython3",
   "version": "3.6.3"
  }
 },
 "nbformat": 4,
 "nbformat_minor": 1
}
